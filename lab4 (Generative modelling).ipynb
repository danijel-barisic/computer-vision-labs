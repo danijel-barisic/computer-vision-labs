{
  "nbformat": 4,
  "nbformat_minor": 0,
  "metadata": {
    "colab": {
      "provenance": []
    },
    "kernelspec": {
      "name": "python3",
      "display_name": "Python 3"
    },
    "language_info": {
      "name": "python"
    },
    "accelerator": "GPU",
    "gpuClass": "standard"
  },
  "cells": [
    {
      "cell_type": "markdown",
      "source": [
        "### Predgovor\n",
        "Ova vježba sastoji se od teoretskog i praktičnog dijela. Bez adekvatnog teorijskog razumijevanja, implementacijska izvedba će biti začajno izazovnija.\n",
        "\n",
        "Predlažemo da napravite kopiju ove bilježnice na svoj Colab profil i tamo riješite vježbu. Ne zaboravite uključiti GPU akceleraciju (Runtime->Change runtime type->GPU->Save). \\\n",
        "\n",
        "U slučaju nejasnoća javite se na anja.delic@fer.hr."
      ],
      "metadata": {
        "id": "uhIzBADQDNCB"
      }
    },
    {
      "cell_type": "markdown",
      "source": [
        "# 4. Laboratorijska vježba - generativno modeliranje"
      ],
      "metadata": {
        "id": "vKtPXFrnpYzC"
      }
    },
    {
      "cell_type": "markdown",
      "source": [
        "Jedan od glavnih katalizatora u razvoju modernog računalnog vida jest dostupnost velikih skupova podataka. Iako su skupovi podataka lako dostupni, proces koji generira podatke je često nepoznat. Cilj ove laboratorijske vježbe jest pokušati aproksimirati proces koji generira dani skup podataka.\n"
      ],
      "metadata": {
        "id": "uzIreOYS7B8T"
      }
    },
    {
      "cell_type": "markdown",
      "source": [
        "## Teorijska podloga generativnom modeliranju"
      ],
      "metadata": {
        "id": "kcPMUvv3E1pL"
      }
    },
    {
      "cell_type": "markdown",
      "source": [
        "Krenuti ćemo od bolje definicije zadatka.\n",
        "Pretpostavimo postojanje skupa podataka $D=\\{\\mathbf{x}_i\\}_{i=1}^N$ koji je nastao uzorkovanjem nepoznate distribucije $P_D(\\underline{\\mathbf{x}})$. Nadalje, pretpostavimo da je svaki primjer $\\mathbf{x}_i$ dobiven nezavisnim uzorkovanjem. Naš cilj je aproksimirati nepoznatu distribuciju podataka $P_D(\\underline{\\mathbf{x}})$ poznatim modelom $P_\\theta(\\underline{\\mathbf{x}})$.\n",
        "S obzirom da su naši podaci često u kontinuirani ($\\underline{\\mathbf{x}}$ je kontinuirana slučajna varijabla) baviti ćemo se modeliranjem gustoća vjerojatnosti $p_D(\\underline{\\mathbf{x}})$ i $p_\\theta(\\underline{\\mathbf{x}})$."
      ],
      "metadata": {
        "id": "f9YQxQbbEz7w"
      }
    },
    {
      "cell_type": "markdown",
      "source": [
        "**Problem 1.:** Kako poravnati nepoznati $p_D(\\underline{\\mathbf{x}})$ i poznati $p_\\theta(\\underline{\\mathbf{x}})$?\n",
        "\n"
      ],
      "metadata": {
        "id": "HHwh1wyJASSH"
      }
    },
    {
      "cell_type": "markdown",
      "source": [
        "U teoriji vjerojatnosti, različitost između dvije distribucije $P(\\underline{x})$ i $Q(\\underline{x})$ se mjeri pomoću f-divergencije. Jedna od najčešćih mjera iz obitelji f-divergencija je KL-divergencija. KL-divergenciju za kontinuirane slučajne varijable definiramo kao:\n",
        "$$\n",
        "\\mathrm{KL}(P, Q) = \\int_{-\\infty}^{+\\infty} p(x) \\ln\\frac{p(x)}{q(x)} dx.\n",
        "$$\n",
        "$p$ i $q$ su pripadajuće gustoće vjerojatnosti."
      ],
      "metadata": {
        "id": "G9Sv47JgCUS-"
      }
    },
    {
      "cell_type": "markdown",
      "source": [
        "KL-divergencije između distribucije podataka i distribucije modela je primamljiv gubitak za naš optimizacijski postupak. Može se pokazati da je minimizacija KL divergencije između distribucije podataka i distribucije modela ekvivalentna minimizaciji negativne log-izglednosti skupa podataka za učenje:\n",
        "$$\n",
        "\\underset{\\theta}{\\mathrm{min}} \\, \\mathrm{KL}(p_D, p_\\theta) \\simeq \\underset{\\theta}{\\mathrm{min}} \\, -\\mathbb{E}_{\\mathbf{x} \\in D} \\;\\;  [\\ln p_\\theta(\\mathbf{x})]\n",
        "$$"
      ],
      "metadata": {
        "id": "ryOKIYqGGd1d"
      }
    },
    {
      "cell_type": "markdown",
      "source": [
        "**Zadatak 1.**: Dokažite navedenu tvrdnju."
      ],
      "metadata": {
        "id": "Y5YX-JnVJ1q9"
      }
    },
    {
      "cell_type": "markdown",
      "source": [
        "Dokaz:\n",
        "$$\n",
        "\\underset{\\theta}{\\mathrm{min}} \\, \\mathrm{KL}(p_D, p_\\theta) = \\mathrm{Nadopuni}\n",
        "$$\n"
      ],
      "metadata": {
        "id": "wAe65zwZKScr"
      }
    },
    {
      "cell_type": "markdown",
      "source": [
        "**Problem 2.**: Definicija modela $p_\\theta$."
      ],
      "metadata": {
        "id": "mcltA0gCk94E"
      }
    },
    {
      "cell_type": "markdown",
      "source": [
        "Naš sljedeći korak je definirati model $p_\\theta$. Upravo po definiciji  $p_\\theta$ razlikujemo različite generativne modele.\n",
        "Na primjer autoregresivna faktorizacija modela dovodi do autoregresijskih modela, dok modeliranje nenormalizirane distribucije dovodi do energijskih modela. U ovoj vježbi se fokusiramo  na vrstu generativnih modela koje nazivamo normalizirajući tokovi. Normalizirajući tok $p_\\theta$ definiramo pomoću formule za zamjenu varijabli distribucije.\n",
        "\n",
        "Pretpostavimo da su $\\underline{\\mathbf{x}}$ i $\\underline{\\mathbf{z}}$ dvije kontinuirane slučajne varijable. Pretpostavimo da bijekcija $f$ mapira realizacije slučajne varijable $\\underline{\\mathbf{x}}$ u realizacije od $\\underline{\\mathbf{z}}$, to jest $\\mathbf{z} = f(\\mathbf{x})$. S obzirom da je $f$ bijekcija vrijedi i obrat $\\mathbf{x} = f^{-1}(\\mathbf{z})$. Formulu za zamjenu varijabi distribucije definiramo kao:\n",
        "$$\n",
        " p(\\mathbf{x}) = q(\\mathbf{z}) \\left| \\mathrm{det} \\frac{\\partial \\mathbf{z}}{ \\partial \\mathbf{x}} \\right|, \\quad \\mathbf{z} = f(\\mathbf{x})\n",
        "$$\n",
        "$\\frac{∂ \\mathbf{z}}{ ∂ \\mathbf{x}}$ predstavlja Jakobijan funkcije $f$ za $\\textbf{x}$. det predstavlja determinantu. $|\\cdot|$ predstavlja apsolutnu vrijednost.\n",
        "To jest, drugi član umnoška odgovara apsolutnoj vrijednosti determinante Jakobijana transformacije $f$."
      ],
      "metadata": {
        "id": "-QTBdTnEMnk2"
      }
    },
    {
      "cell_type": "markdown",
      "source": [
        "Formulu za zamjenu varijabli ćemo iskoristiti za izgradnju okvira koji nam omogućava implementaciju dubokog generativnog modela.\n",
        "Ideja je jednostavna, distribuciju $q(\\mathbf{z})$ možemo predefinirati (npr. kao Gaussovu distribuciju). Tada nam je jedina nepoznanica bijekcija $f$ koju možemo parametrizirati s $\\theta$ te naučiti optimizacijskim postupkom.\n"
      ],
      "metadata": {
        "id": "Q1WEnc3ZarRI"
      }
    },
    {
      "cell_type": "markdown",
      "source": [
        "Prisjetimo se sljedećih teorema:\n",
        "1. kompozicija bijekcija je bijekcija, tj $f$ možemo raspisati kao $f = f_1 ∘ f_2 ∘ f_3 ∘ \\dots \\circ f_K$.\n",
        "2. pravilo ulančavanja: $\\frac{∂ z_3}{ ∂ z_1} = \\frac{∂ z_3}{ ∂ z_2}\\frac{∂ z_2}{ ∂ z_1} $\n",
        "3. determinanta umnoška dviju kvadratnih matrica istog reda jednaka je umnošku determinanti svake matrice (Binet-Cauchyjev teorem)\n",
        "4. Apsolutna vrijednost umnoška dva realna broja je jednaka umnošku apsolutnih vrijednosti: $|a\\cdot b| = |a|\\cdot |b|$\n",
        "\n",
        "Bijekciju $f$ možemo promatrati kao kompoziciju funkcija, gdje svaka funkcija $f_i$ prima varijablu $z_{i-1}$ i računa varijablu $z_i$.\n",
        "Ako uzmemo u obzir prethodno spomenute teoreme, dolazimo do sljedeće formulacije:\n",
        "$$\n",
        " p_\\theta (\\mathbf{x}) = q(\\mathbf{z}_K) \\prod_{k=1}^K \\left| \\mathrm{det} \\frac{\\partial \\mathbf{z}_{k} }{ \\partial \\mathbf{z}_{k-1}} \\right|, \\quad \\mathbf{z}_{k} = f_{\\theta_k}(\\mathbf{z}_{k-1}),\n",
        "$$\n",
        "gdje je $\\mathbf{z}_{0} = \\mathbf{x}$.\n",
        "$q(\\mathbf{z}_K)$ može biti proizvoljna distribucija pa je definiramo kao $q(\\mathbf{z}_K):= \\mathcal{N}(\\mathbf{z}_K; 0, \\mathrm{I})$."
      ],
      "metadata": {
        "id": "OjcJuvHaQOBV"
      }
    },
    {
      "cell_type": "markdown",
      "source": [
        "**Zadatak 2.** Krenuvši od općenite formule za zamjenu varijabli izvedite izraz za normalizirajući tok."
      ],
      "metadata": {
        "id": "BVx7UqIZh19J"
      }
    },
    {
      "cell_type": "markdown",
      "source": [
        "Izvod:\n",
        "$$\n",
        "p(\\mathbf{x}) = q(\\mathbf{z}_K) \\left| \\mathrm{det} \\frac{\\partial f(\\mathbf{x})}{ \\partial \\mathbf{x}} \\right| \\\\ \\dots\n",
        "$$"
      ],
      "metadata": {
        "id": "QcG4_w3XiVxC"
      }
    },
    {
      "cell_type": "markdown",
      "source": [
        "Spomenimo još da nas općenito zanima logaritam gustoće vjerojatnosti pa pišemo:\n",
        "$$\n",
        " \\ln p_\\theta (\\mathbf{x}) = \\ln q(\\mathbf{z}_K) +\\sum_{k=1}^K \\ln \\left| \\mathrm{det} \\frac{\\partial \\mathbf{z}_{k} }{ \\partial \\mathbf{z}_{k-1}} \\right|, \\quad \\mathbf{z}_{k} = f_{\\theta_k}(\\mathbf{z}_{k-1}), \\tag{1}\n",
        "$$"
      ],
      "metadata": {
        "id": "GzQTQ_1pBBcF"
      }
    },
    {
      "cell_type": "markdown",
      "source": [
        "Ostala nam je još jedna nepoznanica, a to je dizajn funkcija $f_k$,  $k=1,...,K$.\n",
        "Dizajn funkcije f ovisi o podacima koje modeliramo. Razmislite kako biste bijekciju modelirali kao gradivni blok dubokog modela."
      ],
      "metadata": {
        "id": "N9gRzeKonoKN"
      }
    },
    {
      "cell_type": "markdown",
      "source": [
        "## Modeliranje 2D skupa podataka normalizirajućim tokom"
      ],
      "metadata": {
        "id": "2LJNZ2ez-138"
      }
    },
    {
      "cell_type": "markdown",
      "source": [
        "**Problem 3.** Modeliranje 2D skupa podatka."
      ],
      "metadata": {
        "id": "8pnaIDgmlMKu"
      }
    },
    {
      "cell_type": "code",
      "execution_count": null,
      "metadata": {
        "id": "E8oosfEPpUaR"
      },
      "outputs": [],
      "source": [
        "import torch\n",
        "import random\n",
        "import numpy as np\n",
        "import torch.nn as nn\n",
        "\n",
        "np.random.seed(0)\n",
        "random.seed(0)\n",
        "torch.manual_seed(0)\n",
        "\n",
        "import matplotlib.pyplot as plt"
      ]
    },
    {
      "cell_type": "code",
      "source": [
        "class GaussianMixture2DDataset:\n",
        "    def __init__(self, num_samples, n_comp=2, loc=torch.zeros(2,2), scale=torch.ones(2,2), pi=(torch.ones(2)/2)):\n",
        "        samples_per_component = (pi * num_samples).long()\n",
        "        self.samples = torch.cat([torch.randn(samples_per_component[i],2) * scale[i] + loc[i] for i in range(n_comp)], 0)\n",
        "\n",
        "    def __getitem__(self, idx):\n",
        "        return self.samples[idx]"
      ],
      "metadata": {
        "id": "FPjc6n7sqLIn"
      },
      "execution_count": null,
      "outputs": []
    },
    {
      "cell_type": "markdown",
      "source": [
        "Promotrimo sljedeći skup podataka. Pretpostavimo da nam je dostupan samo skup podataka $D$. Cilj nam je aproksimirati distribuciju podataka $p_D$ pomoću normalizirajućeg toka."
      ],
      "metadata": {
        "id": "qrDsz9ajlmYb"
      }
    },
    {
      "cell_type": "code",
      "source": [
        "D = GaussianMixture2DDataset(9999, loc=torch.tensor([[-1, -1], [1,1]]), scale=torch.tensor([[0.5, 0.5], [0.5,0.5]])).samples\n",
        "plt.scatter(D[:, 0], D[:, 1], 1)\n",
        "plt.show()"
      ],
      "metadata": {
        "id": "SdbqYcV0sOZK",
        "colab": {
          "base_uri": "https://localhost:8080/",
          "height": 434
        },
        "outputId": "2e144004-97a4-4ab4-95af-b9878aa1900d"
      },
      "execution_count": null,
      "outputs": [
        {
          "output_type": "display_data",
          "data": {
            "text/plain": [
              "<Figure size 640x480 with 1 Axes>"
            ],
            "image/png": "[encoded data removed]"
          },
          "metadata": {}
        }
      ]
    },
    {
      "cell_type": "markdown",
      "source": [
        "S obzirom da modeliramo 2D skup podatka, zanimaju nas funkcije s domenom $\\mathbb{R}^2$ i kodomenom $\\mathbb{R}^2$ koje imaju inverz.\n",
        "Definiramo sljedeći implementacijski ovir:"
      ],
      "metadata": {
        "id": "e6UCmiYqoTxf"
      }
    },
    {
      "cell_type": "code",
      "source": [
        "class _Bijection(nn.Module):\n",
        "    def __init__(self):\n",
        "        super(_Bijection, self).__init__()\n",
        "\n",
        "    def forward(self, x):\n",
        "        pass\n",
        "\n",
        "    def inverse(self, z):\n",
        "        pass"
      ],
      "metadata": {
        "id": "oB_3FyfGsfmF"
      },
      "execution_count": null,
      "outputs": []
    },
    {
      "cell_type": "markdown",
      "source": [
        "Funkcija `forward` implementira unaprijedni probalz kroz sloj i na izlazu vraća transformirani ulaz i logaritam apsolutne vrijednosti determinante Jakobijana funkcije. \\\n",
        "Funkcija `inverse` implementira inverzni probalz kroz sloj i na izlazu vraća transformirani ulaz."
      ],
      "metadata": {
        "id": "NLaq4kuYrv21"
      }
    },
    {
      "cell_type": "markdown",
      "source": [
        "**Zadatak 3.**: Pokušajmo ponuditi bijektivnu alternativu sloju torch.nn.Linear.Obratite pozornost na to da je transformaciju potrebno održavati invertibilnom regularizacijskim članom.\n",
        "Nadopunite forward i inverse funkciju.\n",
        "\n",
        "Hint: Linearna transformacija se primjenjuje na svaki primjer u minigrupi nezavisno."
      ],
      "metadata": {
        "id": "VIFMGWxqri3u"
      }
    },
    {
      "cell_type": "code",
      "source": [
        "def sum_except_batch(x, num_dims=1):\n",
        "    return x.reshape(*x.shape[:num_dims], -1).sum(-1)\n",
        "\n",
        "class BijectiveLinear(_Bijection):\n",
        "    def __init__(self, dim):\n",
        "        super(_Bijection, self).__init__()\n",
        "        self.dim = dim\n",
        "        self.weight = nn.Parameter(torch.eye(dim))\n",
        "        self.bias = nn.Parameter(torch.zeros(1, dim))\n",
        "\n",
        "    def forward(self, x):   # x has shape NxD\n",
        "        # ...\n",
        "        z = torch.matmul(x, self.weight.t()) + self.bias\n",
        "        log_abs_det = sum_except_batch(torch.log(torch.abs(torch.det(self.weight))))\n",
        "        return z, log_abs_det # shapes NxD, N\n",
        "\n",
        "    def inverse(self, z):\n",
        "        # ...\n",
        "        x = (z-self.bias) @ torch.inverse(self.weight.T)\n",
        "        return x    # NxD\n",
        "\n",
        "    def regularization(self):\n",
        "        return ((self.weight @ self.weight) - torch.eye(self.dim)).abs().sum()\n",
        "\n",
        "\n"
      ],
      "metadata": {
        "id": "lS9FtpcPqVpJ"
      },
      "execution_count": null,
      "outputs": []
    },
    {
      "cell_type": "markdown",
      "source": [
        "**Zadatak 4.**: Nadopunite implementaciju baznog razreda `NormalizingFlow`.\n",
        "\n",
        "Obratite pozornost na to da razred kroz konstruktor prima atribut `transforms` koji mora biti tipa [torch.nn.Sequential](https://pytorch.org/docs/stable/generated/torch.nn.Sequential.html) kako bismo kroz taj objekt mogli iterirati koristeći for petlju kroz slojeve normalizirajućeg toka pri unaprijednom i inverznom prolazu. Pretpostavka je da će svi elementi u transforms nasljeđivati prethodno definirano sučelje `_Bijection`.\n",
        "\n"
      ],
      "metadata": {
        "id": "8aKtTZhIr7tN"
      }
    },
    {
      "cell_type": "code",
      "source": [
        "class NormalizingFlow(nn.Module):\n",
        "    \"\"\"\n",
        "    Base class for normalizing flow.\n",
        "    \"\"\"\n",
        "\n",
        "    def __init__(self, transforms, input_dim):\n",
        "        super(NormalizingFlow, self).__init__()\n",
        "        self.transforms = transforms # has to be of type nn.Sequential.\n",
        "\n",
        "        self.register_buffer('loc', torch.zeros(input_dim))\n",
        "        self.register_buffer('log_scale', torch.zeros(input_dim))\n",
        "        self.base_dist = torch.distributions.Normal(self.loc, torch.exp(self.log_scale))\n",
        "\n",
        "    def forward(self, x):\n",
        "        \"\"\"Transforms the input sample to the latent representation z.\n",
        "\n",
        "        Args:\n",
        "            x (torch.Tensor): input sample\n",
        "\n",
        "        Returns:\n",
        "            torch.Tensor: latent representation of the input sample\n",
        "        \"\"\"\n",
        "        # ...\n",
        "        z=x\n",
        "        for transform in self.transforms:\n",
        "          z, log_abs_det = transform(z)\n",
        "        return z\n",
        "\n",
        "    def inverse(self, z):\n",
        "        \"\"\"Transforms the latent representation z back to the input space.\n",
        "\n",
        "        Args:\n",
        "            z (torch.Tensor): latent representation\n",
        "\n",
        "        Returns:\n",
        "            torch.Tensor: representation in the input space\n",
        "        \"\"\"\n",
        "        # ...\n",
        "        x=z\n",
        "        for transform in reversed(self.transforms):\n",
        "          x=transform.inverse(x)\n",
        "        return x\n",
        "\n",
        "    def log_prob(self, x):\n",
        "        \"\"\"Calculates the log-likelihood of the given sample x (see equation (1)).\n",
        "\n",
        "        Args:\n",
        "            x (torch.Tensor): input\n",
        "\n",
        "        Returns:\n",
        "            torch.Tensor: log-likelihood of x\n",
        "        \"\"\"\n",
        "        z = x\n",
        "        log_abs_det_sum = 0\n",
        "        for transform in self.transforms:\n",
        "          z, log_abs_det = transform.forward(z)\n",
        "          log_abs_det_sum += log_abs_det\n",
        "\n",
        "        log_pz = self.base_dist.log_prob(z).sum(dim=-1)\n",
        "        log_px =  log_pz + log_abs_det_sum\n",
        "\n",
        "        return log_px\n",
        "\n",
        "    def sample(self, num_samples, T=1):\n",
        "        \"\"\"Generates new samples from the normalizing flow.\n",
        "\n",
        "        Args:\n",
        "            num_samples (int): number of samples to generate\n",
        "            T (float, optional): sampleing temperature. Defaults to 1.\n",
        "\n",
        "        Returns:\n",
        "            torch.Tensor: generated samples\n",
        "        \"\"\"\n",
        "        z = self.base_dist.sample(torch.Size([num_samples])) * T\n",
        "        x = self.inverse(z)\n",
        "        return x"
      ],
      "metadata": {
        "id": "SNBd58SdJBkn"
      },
      "execution_count": null,
      "outputs": []
    },
    {
      "cell_type": "markdown",
      "source": [
        "U jednostavnom slučaju, transformaciju normalizirajućeg toka možemo definirati kao slijed linearnih transformacija:"
      ],
      "metadata": {
        "id": "K4jw_hqiZDVI"
      }
    },
    {
      "cell_type": "code",
      "source": [
        "class SimpleNF(NormalizingFlow):\n",
        "    def __init__(self, input_dim, num_steps=2):\n",
        "        transforms = nn.Sequential()\n",
        "        for _ in range(num_steps):\n",
        "            transforms.append(BijectiveLinear(input_dim))\n",
        "\n",
        "        super(SimpleNF, self).__init__(transforms=transforms, input_dim=input_dim)\n",
        "\n",
        "    def gather_regularization(self):\n",
        "        return sum([m.regularization() for m in self.transforms])"
      ],
      "metadata": {
        "id": "GPTAAO6kr6ei"
      },
      "execution_count": null,
      "outputs": []
    },
    {
      "cell_type": "markdown",
      "source": [
        "Provjerite svoju implementaciju inverza sljedećim kodom:"
      ],
      "metadata": {
        "id": "2S76bp33sZxD"
      }
    },
    {
      "cell_type": "code",
      "source": [
        "flow = SimpleNF(2, num_steps=7)\n",
        "print((flow.inverse(flow(D)) - D).sum().item())\n",
        "assert (flow.inverse(flow(D)) - D).sum() < 1e-9"
      ],
      "metadata": {
        "id": "9_YbUH-erqEx",
        "colab": {
          "base_uri": "https://localhost:8080/"
        },
        "outputId": "311732e8-cce3-462c-9c95-392718fcba7e"
      },
      "execution_count": null,
      "outputs": [
        {
          "output_type": "stream",
          "name": "stdout",
          "text": [
            "0.0\n"
          ]
        }
      ]
    },
    {
      "cell_type": "markdown",
      "source": [
        "Tok učimo optmizacijom prethodno objašnjenog gubitka."
      ],
      "metadata": {
        "id": "yw1rECQCsgrd"
      }
    },
    {
      "cell_type": "code",
      "source": [
        "flow = SimpleNF(2, num_steps=7)\n",
        "optim = torch.optim.SGD(flow.parameters(), lr=1e-1)\n",
        "\n",
        "for iter in range(4000):\n",
        "    optim.zero_grad()\n",
        "    log_px = flow.log_prob(D)\n",
        "    loss = - (log_px).mean()\n",
        "    loss_reg = flow.gather_regularization()\n",
        "    total_loss = loss + 0.001 * loss_reg\n",
        "    total_loss.backward()\n",
        "    optim.step()\n",
        "    if iter % 20 == 0:\n",
        "        print(f\"Iter {iter+1}: Loss:{loss.item()} Reg:{loss_reg.item()}\")"
      ],
      "metadata": {
        "id": "m6VldF_vw8tu",
        "colab": {
          "base_uri": "https://localhost:8080/"
        },
        "outputId": "5e7e9314-455c-477b-cd27-fbc97e3eaaa9"
      },
      "execution_count": null,
      "outputs": [
        {
          "output_type": "stream",
          "name": "stdout",
          "text": [
            "Iter 1: Loss:3.0862061977386475 Reg:0.0\n",
            "Iter 21: Loss:2.546642303466797 Reg:3.0696523189544678\n",
            "Iter 41: Loss:2.5819005966186523 Reg:3.087986946105957\n",
            "Iter 61: Loss:2.549468994140625 Reg:3.197510004043579\n",
            "Iter 81: Loss:2.5468549728393555 Reg:3.202179431915283\n",
            "Iter 101: Loss:2.5466535091400146 Reg:3.1987218856811523\n",
            "Iter 121: Loss:2.5466349124908447 Reg:3.194823741912842\n",
            "Iter 141: Loss:2.546633005142212 Reg:3.191014289855957\n",
            "Iter 161: Loss:2.546633243560791 Reg:3.187319755554199\n",
            "Iter 181: Loss:2.546632766723633 Reg:3.1837379932403564\n",
            "Iter 201: Loss:2.546632766723633 Reg:3.180262804031372\n",
            "Iter 221: Loss:2.546632766723633 Reg:3.1768925189971924\n",
            "Iter 241: Loss:2.546633243560791 Reg:3.173621654510498\n",
            "Iter 261: Loss:2.5466325283050537 Reg:3.1704490184783936\n",
            "Iter 281: Loss:2.546632766723633 Reg:3.167370319366455\n",
            "Iter 301: Loss:2.546632766723633 Reg:3.16438364982605\n",
            "Iter 321: Loss:2.546633243560791 Reg:3.1614863872528076\n",
            "Iter 341: Loss:2.5466325283050537 Reg:3.158674716949463\n",
            "Iter 361: Loss:2.546633243560791 Reg:3.15594744682312\n",
            "Iter 381: Loss:2.546633243560791 Reg:3.153301477432251\n",
            "Iter 401: Loss:2.546632766723633 Reg:3.1507349014282227\n",
            "Iter 421: Loss:2.5466325283050537 Reg:3.1482439041137695\n",
            "Iter 441: Loss:2.546633005142212 Reg:3.1458282470703125\n",
            "Iter 461: Loss:2.546632766723633 Reg:3.1434836387634277\n",
            "Iter 481: Loss:2.546633005142212 Reg:3.141209125518799\n",
            "Iter 501: Loss:2.546633243560791 Reg:3.1390016078948975\n",
            "Iter 521: Loss:2.546632766723633 Reg:3.1368603706359863\n",
            "Iter 541: Loss:2.546633005142212 Reg:3.1347830295562744\n",
            "Iter 561: Loss:2.546633005142212 Reg:3.1327688694000244\n",
            "Iter 581: Loss:2.546633005142212 Reg:3.1308159828186035\n",
            "Iter 601: Loss:2.546633243560791 Reg:3.1289260387420654\n",
            "Iter 621: Loss:2.5466344356536865 Reg:3.127102851867676\n",
            "Iter 641: Loss:2.5466420650482178 Reg:3.1253609657287598\n",
            "Iter 661: Loss:2.5467004776000977 Reg:3.123706340789795\n",
            "Iter 681: Loss:2.5471911430358887 Reg:3.121793746948242\n",
            "Iter 701: Loss:2.5508077144622803 Reg:3.1162586212158203\n",
            "Iter 721: Loss:2.5571327209472656 Reg:3.1131067276000977\n",
            "Iter 741: Loss:2.5514206886291504 Reg:3.137493848800659\n",
            "Iter 761: Loss:2.5478618144989014 Reg:3.1478400230407715\n",
            "Iter 781: Loss:2.5469419956207275 Reg:3.1483449935913086\n",
            "Iter 801: Loss:2.546719551086426 Reg:3.14650559425354\n",
            "Iter 821: Loss:2.546660900115967 Reg:3.144228935241699\n",
            "Iter 841: Loss:2.546643018722534 Reg:3.1419172286987305\n",
            "Iter 861: Loss:2.5466372966766357 Reg:3.139657735824585\n",
            "Iter 881: Loss:2.5466349124908447 Reg:3.1374645233154297\n",
            "Iter 901: Loss:2.5466341972351074 Reg:3.1353373527526855\n",
            "Iter 921: Loss:2.546633720397949 Reg:3.133273124694824\n",
            "Iter 941: Loss:2.54663348197937 Reg:3.1312732696533203\n",
            "Iter 961: Loss:2.546633243560791 Reg:3.1293301582336426\n",
            "Iter 981: Loss:2.54663348197937 Reg:3.1274447441101074\n",
            "Iter 1001: Loss:2.546633720397949 Reg:3.1256139278411865\n",
            "Iter 1021: Loss:2.54663348197937 Reg:3.1238386631011963\n",
            "Iter 1041: Loss:2.5466341972351074 Reg:3.1221160888671875\n",
            "Iter 1061: Loss:2.5466346740722656 Reg:3.120448112487793\n",
            "Iter 1081: Loss:2.546635627746582 Reg:3.118835687637329\n",
            "Iter 1101: Loss:2.5466387271881104 Reg:3.1172850131988525\n",
            "Iter 1121: Loss:2.5466463565826416 Reg:3.1158063411712646\n",
            "Iter 1141: Loss:2.5466690063476562 Reg:3.1144182682037354\n",
            "Iter 1161: Loss:2.546738862991333 Reg:3.113145351409912\n",
            "Iter 1181: Loss:2.54697322845459 Reg:3.111974000930786\n",
            "Iter 1201: Loss:2.5477442741394043 Reg:3.1106820106506348\n",
            "Iter 1221: Loss:2.5496482849121094 Reg:3.109037399291992\n",
            "Iter 1241: Loss:2.5512328147888184 Reg:3.110342025756836\n",
            "Iter 1261: Loss:2.5499720573425293 Reg:3.117323875427246\n",
            "Iter 1281: Loss:2.5482051372528076 Reg:3.122499465942383\n",
            "Iter 1301: Loss:2.547287702560425 Reg:3.1237175464630127\n",
            "Iter 1321: Loss:2.546912908554077 Reg:3.1229522228240967\n",
            "Iter 1341: Loss:2.546762466430664 Reg:3.1214897632598877\n",
            "Iter 1361: Loss:2.546699285507202 Reg:3.119828701019287\n",
            "Iter 1381: Loss:2.546671152114868 Reg:3.1181368827819824\n",
            "Iter 1401: Loss:2.5466575622558594 Reg:3.116469383239746\n",
            "Iter 1421: Loss:2.5466511249542236 Reg:3.1148409843444824\n",
            "Iter 1441: Loss:2.546647787094116 Reg:3.113257884979248\n",
            "Iter 1461: Loss:2.5466463565826416 Reg:3.111720323562622\n",
            "Iter 1481: Loss:2.5466465950012207 Reg:3.1102294921875\n",
            "Iter 1501: Loss:2.5466487407684326 Reg:3.108788251876831\n",
            "Iter 1521: Loss:2.5466535091400146 Reg:3.107401132583618\n",
            "Iter 1541: Loss:2.546661615371704 Reg:3.106078624725342\n",
            "Iter 1561: Loss:2.546699047088623 Reg:3.105266571044922\n",
            "Iter 1581: Loss:2.546776294708252 Reg:3.1052193641662598\n",
            "Iter 1601: Loss:2.5469696521759033 Reg:3.1046576499938965\n",
            "Iter 1621: Loss:2.547320604324341 Reg:3.1049513816833496\n",
            "Iter 1641: Loss:2.547959566116333 Reg:3.105191230773926\n",
            "Iter 1661: Loss:2.5485482215881348 Reg:3.1063718795776367\n",
            "Iter 1681: Loss:2.548466205596924 Reg:3.1078577041625977\n",
            "Iter 1701: Loss:2.5480353832244873 Reg:3.1091597080230713\n",
            "Iter 1721: Loss:2.547571897506714 Reg:3.1096713542938232\n",
            "Iter 1741: Loss:2.547231912612915 Reg:3.1093196868896484\n",
            "Iter 1761: Loss:2.5470194816589355 Reg:3.108382225036621\n",
            "Iter 1781: Loss:2.5468945503234863 Reg:3.1071276664733887\n",
            "Iter 1801: Loss:2.5468223094940186 Reg:3.105726718902588\n",
            "Iter 1821: Loss:2.546799898147583 Reg:3.1049177646636963\n",
            "Iter 1841: Loss:2.546800136566162 Reg:3.1038801670074463\n",
            "Iter 1861: Loss:2.5468108654022217 Reg:3.1029555797576904\n",
            "Iter 1881: Loss:2.5468530654907227 Reg:3.102534055709839\n",
            "Iter 1901: Loss:2.5469064712524414 Reg:3.1021928787231445\n",
            "Iter 1921: Loss:2.5469696521759033 Reg:3.1028549671173096\n",
            "Iter 1941: Loss:2.5470290184020996 Reg:3.1015169620513916\n",
            "Iter 1961: Loss:2.5470895767211914 Reg:3.101452350616455\n",
            "Iter 1981: Loss:2.547150135040283 Reg:3.1010873317718506\n",
            "Iter 2001: Loss:2.547201156616211 Reg:3.1019551753997803\n",
            "Iter 2021: Loss:2.5472421646118164 Reg:3.1005454063415527\n",
            "Iter 2041: Loss:2.5472421646118164 Reg:3.101250648498535\n",
            "Iter 2061: Loss:2.5472114086151123 Reg:3.0996720790863037\n",
            "Iter 2081: Loss:2.5471889972686768 Reg:3.0991456508636475\n",
            "Iter 2101: Loss:2.547163248062134 Reg:3.0985281467437744\n",
            "Iter 2121: Loss:2.547136068344116 Reg:3.0987908840179443\n",
            "Iter 2141: Loss:2.5470943450927734 Reg:3.096879720687866\n",
            "Iter 2161: Loss:2.5470917224884033 Reg:3.09611177444458\n",
            "Iter 2181: Loss:2.547074556350708 Reg:3.0953450202941895\n",
            "Iter 2201: Loss:2.5470612049102783 Reg:3.094491481781006\n",
            "Iter 2221: Loss:2.5470683574676514 Reg:3.093618869781494\n",
            "Iter 2241: Loss:2.547060966491699 Reg:3.092817544937134\n",
            "Iter 2261: Loss:2.547074317932129 Reg:3.091759204864502\n",
            "Iter 2281: Loss:2.5470733642578125 Reg:3.090555191040039\n",
            "Iter 2301: Loss:2.5470712184906006 Reg:3.089735507965088\n",
            "Iter 2321: Loss:2.5470879077911377 Reg:3.088602304458618\n",
            "Iter 2341: Loss:2.547105312347412 Reg:3.087618827819824\n",
            "Iter 2361: Loss:2.547123908996582 Reg:3.0864405632019043\n",
            "Iter 2381: Loss:2.547121047973633 Reg:3.085393190383911\n",
            "Iter 2401: Loss:2.547118663787842 Reg:3.0839004516601562\n",
            "Iter 2421: Loss:2.5471460819244385 Reg:3.082792282104492\n",
            "Iter 2441: Loss:2.547168493270874 Reg:3.081699848175049\n",
            "Iter 2461: Loss:2.5471816062927246 Reg:3.0804507732391357\n",
            "Iter 2481: Loss:2.5471677780151367 Reg:3.0787861347198486\n",
            "Iter 2501: Loss:2.547171115875244 Reg:3.077303409576416\n",
            "Iter 2521: Loss:2.5471503734588623 Reg:3.075462818145752\n",
            "Iter 2541: Loss:2.5471348762512207 Reg:3.073444366455078\n",
            "Iter 2561: Loss:2.547154664993286 Reg:3.0718069076538086\n",
            "Iter 2581: Loss:2.547138214111328 Reg:3.0696187019348145\n",
            "Iter 2601: Loss:2.547142267227173 Reg:3.067656993865967\n",
            "Iter 2621: Loss:2.547128438949585 Reg:3.065335273742676\n",
            "Iter 2641: Loss:2.5471551418304443 Reg:3.0631189346313477\n",
            "Iter 2661: Loss:2.5471737384796143 Reg:3.0609099864959717\n",
            "Iter 2681: Loss:2.5471580028533936 Reg:3.058241367340088\n",
            "Iter 2701: Loss:2.547163724899292 Reg:3.0557637214660645\n",
            "Iter 2721: Loss:2.547168731689453 Reg:3.052734613418579\n",
            "Iter 2741: Loss:2.547175168991089 Reg:3.0499610900878906\n",
            "Iter 2761: Loss:2.547179698944092 Reg:3.046826124191284\n",
            "Iter 2781: Loss:2.5472021102905273 Reg:3.04362416267395\n",
            "Iter 2801: Loss:2.547220230102539 Reg:3.040285348892212\n",
            "Iter 2821: Loss:2.5472207069396973 Reg:3.0367565155029297\n",
            "Iter 2841: Loss:2.547224283218384 Reg:3.0328104496002197\n",
            "Iter 2861: Loss:2.5472476482391357 Reg:3.02901554107666\n",
            "Iter 2881: Loss:2.547250747680664 Reg:3.0248289108276367\n",
            "Iter 2901: Loss:2.547255754470825 Reg:3.020742893218994\n",
            "Iter 2921: Loss:2.547276496887207 Reg:3.0161354541778564\n",
            "Iter 2941: Loss:2.5472958087921143 Reg:3.0116114616394043\n",
            "Iter 2961: Loss:2.5472943782806396 Reg:3.0066065788269043\n",
            "Iter 2981: Loss:2.547335624694824 Reg:3.0014472007751465\n",
            "Iter 3001: Loss:2.547330141067505 Reg:2.9958932399749756\n",
            "Iter 3021: Loss:2.547342538833618 Reg:2.9904959201812744\n",
            "Iter 3041: Loss:2.547358751296997 Reg:2.984424352645874\n",
            "Iter 3061: Loss:2.547377586364746 Reg:2.978322982788086\n",
            "Iter 3081: Loss:2.5474488735198975 Reg:2.972775936126709\n",
            "Iter 3101: Loss:2.547529458999634 Reg:2.967677354812622\n",
            "Iter 3121: Loss:2.547623872756958 Reg:2.9637153148651123\n",
            "Iter 3141: Loss:2.5476584434509277 Reg:2.958253860473633\n",
            "Iter 3161: Loss:2.547703981399536 Reg:2.952111005783081\n",
            "Iter 3181: Loss:2.547739267349243 Reg:2.945936679840088\n",
            "Iter 3201: Loss:2.5477442741394043 Reg:2.9400181770324707\n",
            "Iter 3221: Loss:2.547802686691284 Reg:2.934091091156006\n",
            "Iter 3241: Loss:2.5478439331054688 Reg:2.9269063472747803\n",
            "Iter 3261: Loss:2.547978401184082 Reg:2.9230334758758545\n",
            "Iter 3281: Loss:2.5479984283447266 Reg:2.9177536964416504\n",
            "Iter 3301: Loss:2.548114776611328 Reg:2.9141159057617188\n",
            "Iter 3321: Loss:2.5481536388397217 Reg:2.9095120429992676\n",
            "Iter 3341: Loss:2.548125743865967 Reg:2.903181552886963\n",
            "Iter 3361: Loss:2.5480823516845703 Reg:2.8951292037963867\n",
            "Iter 3381: Loss:2.548082113265991 Reg:2.8901045322418213\n",
            "Iter 3401: Loss:2.5480997562408447 Reg:2.882460594177246\n",
            "Iter 3421: Loss:2.548100709915161 Reg:2.8749008178710938\n",
            "Iter 3441: Loss:2.548150062561035 Reg:2.870670795440674\n",
            "Iter 3461: Loss:2.5482237339019775 Reg:2.864116907119751\n",
            "Iter 3481: Loss:2.548184394836426 Reg:2.855764389038086\n",
            "Iter 3501: Loss:2.54819917678833 Reg:2.8491666316986084\n",
            "Iter 3521: Loss:2.548382043838501 Reg:2.8443470001220703\n",
            "Iter 3541: Loss:2.548550844192505 Reg:2.8421692848205566\n",
            "Iter 3561: Loss:2.5485527515411377 Reg:2.8377552032470703\n",
            "Iter 3581: Loss:2.5484845638275146 Reg:2.8337717056274414\n",
            "Iter 3601: Loss:2.5484120845794678 Reg:2.8259153366088867\n",
            "Iter 3621: Loss:2.548513889312744 Reg:2.8228631019592285\n",
            "Iter 3641: Loss:2.5485808849334717 Reg:2.8192782402038574\n",
            "Iter 3661: Loss:2.548490285873413 Reg:2.811891794204712\n",
            "Iter 3681: Loss:2.548488140106201 Reg:2.806758403778076\n",
            "Iter 3701: Loss:2.5484790802001953 Reg:2.8007354736328125\n",
            "Iter 3721: Loss:2.5485329627990723 Reg:2.7957522869110107\n",
            "Iter 3741: Loss:2.5484869480133057 Reg:2.7907586097717285\n",
            "Iter 3761: Loss:2.5485472679138184 Reg:2.7865166664123535\n",
            "Iter 3781: Loss:2.548715353012085 Reg:2.784332275390625\n",
            "Iter 3801: Loss:2.5486254692077637 Reg:2.7771682739257812\n",
            "Iter 3821: Loss:2.5485246181488037 Reg:2.7703044414520264\n",
            "Iter 3841: Loss:2.5485033988952637 Reg:2.763498306274414\n",
            "Iter 3861: Loss:2.548630475997925 Reg:2.7627081871032715\n",
            "Iter 3881: Loss:2.5487723350524902 Reg:2.7587597370147705\n",
            "Iter 3901: Loss:2.548828601837158 Reg:2.7577247619628906\n",
            "Iter 3921: Loss:2.5487289428710938 Reg:2.751120090484619\n",
            "Iter 3941: Loss:2.548628568649292 Reg:2.7442855834960938\n",
            "Iter 3961: Loss:2.5488202571868896 Reg:2.7459399700164795\n",
            "Iter 3981: Loss:2.548642873764038 Reg:2.7385873794555664\n"
          ]
        }
      ]
    },
    {
      "cell_type": "markdown",
      "source": [
        "Provjerimo još jednom stabilnost inverza. Kako biste komentrali rezultate?"
      ],
      "metadata": {
        "id": "OPKOed7X9lP4"
      }
    },
    {
      "cell_type": "code",
      "source": [
        "print((flow.inverse(flow(D)) - D).sum())\n",
        "assert (flow.inverse(flow(D)) - D).sum() < 1e-4"
      ],
      "metadata": {
        "id": "c8j5If0Y27kW",
        "colab": {
          "base_uri": "https://localhost:8080/"
        },
        "outputId": "9b7e1459-11ce-484f-b96e-7c2c7bdd2f5e"
      },
      "execution_count": null,
      "outputs": [
        {
          "output_type": "stream",
          "name": "stdout",
          "text": [
            "tensor(4.6178e-05, grad_fn=<SumBackward0>)\n"
          ]
        }
      ]
    },
    {
      "cell_type": "markdown",
      "source": [
        "Normalizirajućim tokom možemo generirati primjere na sljedeći način:"
      ],
      "metadata": {
        "id": "RRpZANT_9uyT"
      }
    },
    {
      "cell_type": "code",
      "source": [
        "X_ = flow.sample(2000).detach()\n",
        "plt.scatter(X_[:, 0], X_[:, 1], 1)\n",
        "plt.title(\"Generated samples\")\n",
        "plt.show()"
      ],
      "metadata": {
        "id": "-nC0KnXQ_6Zo",
        "colab": {
          "base_uri": "https://localhost:8080/",
          "height": 452
        },
        "outputId": "0d9398f7-7c9e-46e5-ddb1-bb6128d05533"
      },
      "execution_count": null,
      "outputs": [
        {
          "output_type": "display_data",
          "data": {
            "text/plain": [
              "<Figure size 640x480 with 1 Axes>"
            ],
            "image/png": "[encoded data removed]"
          },
          "metadata": {}
        }
      ]
    },
    {
      "cell_type": "code",
      "source": [
        "plt.clf()\n",
        "plt.scatter(D[:, 0], D[:, 1], 1)\n",
        "plt.scatter(X_[:, 0], X_[:, 1], 1)\n",
        "plt.show()"
      ],
      "metadata": {
        "id": "O7ZL0ILmAUJ4",
        "colab": {
          "base_uri": "https://localhost:8080/",
          "height": 430
        },
        "outputId": "b4726dce-c00d-43b6-cce8-333253b469b2"
      },
      "execution_count": null,
      "outputs": [
        {
          "output_type": "display_data",
          "data": {
            "text/plain": [
              "<Figure size 640x480 with 1 Axes>"
            ],
            "image/png": "[encoded data removed]"
          },
          "metadata": {}
        }
      ]
    },
    {
      "cell_type": "markdown",
      "source": [
        "Definirani tok je prilično jednostavan stoga ne uspijeva dovoljno dobro aproksimirati $p_D$. Bolju performansu dobiti ćemo s kapacitetnijim tokom pod nazivom [RealNVP](https://arxiv.org/abs/1605.08803). RealNVP se sastoji od Coupling slojeva koji su invertibilni po konstrukciji.\n",
        "\n",
        "Unaprijedni prolaz kroz afini coupling sloj s ulazom $\\mathbf{x}$ dimenzionalnosti $d$ definiramo kao ($m < d$):\n",
        "$$\n",
        "\\mathbf{z}_{:m} = \\mathbf{x}_{:m}\n",
        "$$\n",
        "$$\n",
        "\\mathbf{z}_{m:d} = \\exp(\\ln\\mathbf{s}) \\odot \\mathbf{x}_{m:d} + \\mathbf{t}, \\quad \\ln s, t = net(\\mathbf{x}_{:m})\n",
        "$$"
      ],
      "metadata": {
        "id": "SQcdNm-wuVTR"
      }
    },
    {
      "cell_type": "markdown",
      "source": [
        "**Zadatak 5.**: Skicirajte računske grafove unaprijednog i unatražnog prolaza kroz afini coupling sloj. \\\n",
        "Nadopunite postojeći `AffineCouplingLayer` s prikladnom funkcionalnošću.\n",
        "Coupling sloj transformira samo polovicu ulaznog tezora $\\mathbf{x}_{m:d}$, a druga polovica $\\mathbf{x}_{:m}$ ostaje ista.\n",
        "Modul miješanja `net` na izlazu predviđa parametre miješanja `log_s` i `t` iz iz polovice ulaznog tenzora $\\mathbf{x}_{:m}$."
      ],
      "metadata": {
        "id": "muwz51aNwVdb"
      }
    },
    {
      "cell_type": "code",
      "source": [
        "class AffineCouplingLayer(_Bijection):\n",
        "    def __init__(self, net):\n",
        "        super(AffineCouplingLayer, self).__init__()\n",
        "        self.net = net\n",
        "\n",
        "    def forward(self, x): # NxD\n",
        "        # ...\n",
        "        x1, x2 = torch.chunk(x, chunks=2, dim=1)\n",
        "\n",
        "        log_s, t = self.net(x1)\n",
        "\n",
        "        z2 = x1 * torch.exp(log_s) + t\n",
        "        z = torch.cat([x1, z2], dim = 1)\n",
        "        #log_det = log_s.sum(dim=1)\n",
        "        log_det = torch.sum(log_s, dim=1)\n",
        "        return z, log_det # NxD , N\n",
        "\n",
        "    def inverse(self, y): # NxD\n",
        "        # ...\n",
        "        z1, z2 = torch.chunk(y, chunks=2, dim=1)\n",
        "        log_s, t = self.net(z1)\n",
        "\n",
        "        x2 = (z2 - t) * torch.exp(-log_s)\n",
        "        x = torch.cat([z1, x2], dim=1)\n",
        "        return x # NxD"
      ],
      "metadata": {
        "id": "zCh0mGhOeK1Q"
      },
      "execution_count": null,
      "outputs": []
    },
    {
      "cell_type": "markdown",
      "source": [
        "**Zadatak 6.:** Zamislimo situaciju gdje slijedno primjenjujemo više coupling slojeva. Možemo primijetiti da će se miješati samo jedna polovica tenzora. Kako bismo osigurali da se miješaju obje polovice ulaznog tenzora, uvodimo transformaciju `SwitchSides` koju ćemo primijeniti nakon svakog coupling sloja.\n",
        "Na taj način osiguravamo da miješanje provodimo naizmjenično na dvjema polovicama ulaznog tenzora. \\\n",
        "Tenzor dijelimo po dimenziji značajki. Dovršite implementaciju razreda `SwitchSides` tako da dijeli ulazni tenzor na dva dijela po dimenziji značajki i zamjenjuje im strane. Možete iskoristiti funkcije [chunk](https://pytorch.org/docs/stable/generated/torch.chunk.html) i [cat](https://pytorch.org/docs/stable/generated/torch.cat.html)."
      ],
      "metadata": {
        "id": "5O75bubJeUNM"
      }
    },
    {
      "cell_type": "code",
      "source": [
        "class SwitchSides(_Bijection):\n",
        "\n",
        "    def forward(self, x):\n",
        "        x1,x2 = torch.chunk(x,chunks=2,dim=1)\n",
        "        y = torch.cat([x2,x1],dim=1)\n",
        "        return y, 0.\n",
        "\n",
        "    def inverse(self, z):\n",
        "        # ...\n",
        "        y1,y2 = torch.chunk(z,chunks=2,dim=1)\n",
        "        x = torch.cat([y2,y1],dim=1)\n",
        "        return x"
      ],
      "metadata": {
        "id": "nAGiRWSqgNAl"
      },
      "execution_count": null,
      "outputs": []
    },
    {
      "cell_type": "markdown",
      "source": [
        "**Zadatak 7.:**U nastavku je dan razred `SimpleTransform` kojeg ćemo koristiti kao modul afinog miješanja u coupling sloju. Primijetite da je to atribut `net` razreda `AffineCouplingLayer`.\\\n",
        "Dovršite implementaciju tako da `model` bude potpuno povezani modul sljedeće arhitekture:\n",
        "\n",
        "`fc(dim, internal_dim) -> relu -> fc(internal_dim, internal_dim) -> relu -> fc(internal_dim, 2*dim)`.\n",
        "\n",
        "Dimenziju skrivenog sloja potpuno povezanog modula određujemo parametrom `inflate_coef`. \\\n",
        "\n",
        "\n",
        "Inlicijalizirajte parametre modula miješanja tako da modul provodi transformaciju koja je jednaka identitetu. \\"
      ],
      "metadata": {
        "id": "8sqlpbo-gi19"
      }
    },
    {
      "cell_type": "code",
      "source": [
        "class SimpleTransform(nn.Module):\n",
        "    def __init__(self, dim, inflate_coef=1):\n",
        "        super(SimpleTransform, self).__init__()\n",
        "        self.dim = dim\n",
        "        internal_dim = int(dim * inflate_coef)\n",
        "        self.model = nn.Sequential(\n",
        "            # ...\n",
        "            nn.Linear(dim, internal_dim),\n",
        "            nn.ReLU(),\n",
        "            nn.Linear(internal_dim, internal_dim),\n",
        "            nn.ReLU(),\n",
        "            nn.Linear(internal_dim, 2 * dim)\n",
        "        )\n",
        "\n",
        "        for layer in self.model:\n",
        "          if isinstance(layer, nn.Linear):\n",
        "\n",
        "            nn.init.zeros_(layer.weight)\n",
        "            nn.init.zeros_(layer.bias)\n",
        "\n",
        "\n",
        "    def forward(self, x):\n",
        "\n",
        "        out = self.model(x)\n",
        "        log_s, t = torch.chunk(out, dim=1, chunks=2)\n",
        "        return log_s, t"
      ],
      "metadata": {
        "id": "sLGHf7WPgiIr"
      },
      "execution_count": null,
      "outputs": []
    },
    {
      "cell_type": "code",
      "source": [
        "class SimpleRealNVP(NormalizingFlow):\n",
        "    def __init__(self, input_dim, num_steps=2):\n",
        "        transforms = nn.Sequential()\n",
        "        for i in range(num_steps):\n",
        "            transforms.append(AffineCouplingLayer(SimpleTransform(input_dim//2)))\n",
        "            if i != num_steps - 1:\n",
        "                transforms.append(SwitchSides())\n",
        "        super(SimpleRealNVP, self).__init__(transforms, input_dim)\n"
      ],
      "metadata": {
        "id": "BB25jCUlhIly"
      },
      "execution_count": null,
      "outputs": []
    },
    {
      "cell_type": "markdown",
      "source": [
        "Tok možemo naučiti na način kako slijedi:"
      ],
      "metadata": {
        "id": "7CsDfjxsh_qC"
      }
    },
    {
      "cell_type": "code",
      "source": [
        "flow = SimpleRealNVP(2, num_steps=7)\n",
        "optim = torch.optim.SGD(flow.parameters(), lr=1e-2, nesterov=True, momentum=0.9)\n",
        "\n",
        "for iter in range(2000):\n",
        "    optim.zero_grad()\n",
        "    log_px = flow.log_prob(D)\n",
        "    loss = - (log_px).mean()\n",
        "    total_loss = loss\n",
        "    total_loss.backward()\n",
        "    optim.step()\n",
        "    if iter % 20 == 0:\n",
        "        print(f\"Iter {iter+1}: Loss:{loss.item()}\")"
      ],
      "metadata": {
        "id": "MrmFJy6FJFDt",
        "colab": {
          "base_uri": "https://localhost:8080/"
        },
        "outputId": "a41c8d8a-e68b-4636-8ad3-be45f6d9410b"
      },
      "execution_count": null,
      "outputs": [
        {
          "output_type": "stream",
          "name": "stdout",
          "text": [
            "Iter 1: Loss:3.0878794193267822\n",
            "Iter 21: Loss:2.607567548751831\n",
            "Iter 41: Loss:2.5201821327209473\n",
            "Iter 61: Loss:2.493957042694092\n",
            "Iter 81: Loss:2.482527732849121\n",
            "Iter 101: Loss:2.47601580619812\n",
            "Iter 121: Loss:2.4717278480529785\n",
            "Iter 141: Loss:2.4686622619628906\n",
            "Iter 161: Loss:2.4663522243499756\n",
            "Iter 181: Loss:2.464545965194702\n",
            "Iter 201: Loss:2.46309232711792\n",
            "Iter 221: Loss:2.4618968963623047\n",
            "Iter 241: Loss:2.4608957767486572\n",
            "Iter 261: Loss:2.460045337677002\n",
            "Iter 281: Loss:2.459312915802002\n",
            "Iter 301: Loss:2.4586760997772217\n",
            "Iter 321: Loss:2.4581165313720703\n",
            "Iter 341: Loss:2.4576218128204346\n",
            "Iter 361: Loss:2.4571805000305176\n",
            "Iter 381: Loss:2.45678448677063\n",
            "Iter 401: Loss:2.4564273357391357\n",
            "Iter 421: Loss:2.4561033248901367\n",
            "Iter 441: Loss:2.45580792427063\n",
            "Iter 461: Loss:2.455575466156006\n",
            "Iter 481: Loss:2.50070858001709\n",
            "Iter 501: Loss:2.461888313293457\n",
            "Iter 521: Loss:2.4615719318389893\n",
            "Iter 541: Loss:2.460707664489746\n",
            "Iter 561: Loss:2.4598946571350098\n",
            "Iter 581: Loss:2.459183692932129\n",
            "Iter 601: Loss:2.4585633277893066\n",
            "Iter 621: Loss:2.458017110824585\n",
            "Iter 641: Loss:2.457533121109009\n",
            "Iter 661: Loss:2.457101345062256\n",
            "Iter 681: Loss:2.4567129611968994\n",
            "Iter 701: Loss:2.456362724304199\n",
            "Iter 721: Loss:2.4560446739196777\n",
            "Iter 741: Loss:2.455754518508911\n",
            "Iter 761: Loss:2.455489158630371\n",
            "Iter 781: Loss:2.455244541168213\n",
            "Iter 801: Loss:2.45501971244812\n",
            "Iter 821: Loss:2.4548113346099854\n",
            "Iter 841: Loss:2.454620122909546\n",
            "Iter 861: Loss:2.740307331085205\n",
            "Iter 881: Loss:2.4600565433502197\n",
            "Iter 901: Loss:2.4602673053741455\n",
            "Iter 921: Loss:2.4596474170684814\n",
            "Iter 941: Loss:2.4589853286743164\n",
            "Iter 961: Loss:2.4583914279937744\n",
            "Iter 981: Loss:2.4578657150268555\n",
            "Iter 1001: Loss:2.4573981761932373\n",
            "Iter 1021: Loss:2.456979990005493\n",
            "Iter 1041: Loss:2.45660400390625\n",
            "Iter 1061: Loss:2.456264019012451\n",
            "Iter 1081: Loss:2.4559545516967773\n",
            "Iter 1101: Loss:2.455672025680542\n",
            "Iter 1121: Loss:2.455413818359375\n",
            "Iter 1141: Loss:2.4551751613616943\n",
            "Iter 1161: Loss:2.454955577850342\n",
            "Iter 1181: Loss:2.45475172996521\n",
            "Iter 1201: Loss:2.4545631408691406\n",
            "Iter 1221: Loss:2.4543867111206055\n",
            "Iter 1241: Loss:2.4542222023010254\n",
            "Iter 1261: Loss:2.4549813270568848\n",
            "Iter 1281: Loss:2.4570422172546387\n",
            "Iter 1301: Loss:2.459077835083008\n",
            "Iter 1321: Loss:2.4587788581848145\n",
            "Iter 1341: Loss:2.4582488536834717\n",
            "Iter 1361: Loss:2.4577443599700928\n",
            "Iter 1381: Loss:2.4572904109954834\n",
            "Iter 1401: Loss:2.456883668899536\n",
            "Iter 1421: Loss:2.456516981124878\n",
            "Iter 1441: Loss:2.4561846256256104\n",
            "Iter 1461: Loss:2.4558823108673096\n",
            "Iter 1481: Loss:2.45560622215271\n",
            "Iter 1501: Loss:2.455352544784546\n",
            "Iter 1521: Loss:2.4551188945770264\n",
            "Iter 1541: Loss:2.4549033641815186\n",
            "Iter 1561: Loss:2.4547033309936523\n",
            "Iter 1581: Loss:2.4545180797576904\n",
            "Iter 1601: Loss:2.4543449878692627\n",
            "Iter 1621: Loss:2.454183340072632\n",
            "Iter 1641: Loss:2.4540319442749023\n",
            "Iter 1661: Loss:2.453890562057495\n",
            "Iter 1681: Loss:2.471588373184204\n",
            "Iter 1701: Loss:2.458895206451416\n",
            "Iter 1721: Loss:2.4587457180023193\n",
            "Iter 1741: Loss:2.458376884460449\n",
            "Iter 1761: Loss:2.457876443862915\n",
            "Iter 1781: Loss:2.457411050796509\n",
            "Iter 1801: Loss:2.4569919109344482\n",
            "Iter 1821: Loss:2.4566147327423096\n",
            "Iter 1841: Loss:2.4562737941741943\n",
            "Iter 1861: Loss:2.455963373184204\n",
            "Iter 1881: Loss:2.4556801319122314\n",
            "Iter 1901: Loss:2.45542049407959\n",
            "Iter 1921: Loss:2.455181837081909\n",
            "Iter 1941: Loss:2.4549615383148193\n",
            "Iter 1961: Loss:2.4547579288482666\n",
            "Iter 1981: Loss:2.4545681476593018\n"
          ]
        }
      ]
    },
    {
      "cell_type": "code",
      "source": [
        "print((flow.inverse(flow(D)) - D).sum())\n",
        "assert (flow.inverse(flow(D)) - D).sum() < 1e-4"
      ],
      "metadata": {
        "id": "l_wcddTYw64q",
        "colab": {
          "base_uri": "https://localhost:8080/",
          "height": 210
        },
        "outputId": "63b7a5df-d99b-49b9-ffe2-4284d2a584d7"
      },
      "execution_count": null,
      "outputs": [
        {
          "output_type": "stream",
          "name": "stdout",
          "text": [
            "tensor(73.8878, grad_fn=<SumBackward0>)\n"
          ]
        },
        {
          "output_type": "error",
          "ename": "AssertionError",
          "evalue": "",
          "traceback": [
            "\u001b[0;31m---------------------------------------------------------------------------\u001b[0m",
            "\u001b[0;31mAssertionError\u001b[0m                            Traceback (most recent call last)",
            "\u001b[0;32m<ipython-input-55-1312cccf38ef>\u001b[0m in \u001b[0;36m<cell line: 2>\u001b[0;34m()\u001b[0m\n\u001b[1;32m      1\u001b[0m \u001b[0mprint\u001b[0m\u001b[0;34m(\u001b[0m\u001b[0;34m(\u001b[0m\u001b[0mflow\u001b[0m\u001b[0;34m.\u001b[0m\u001b[0minverse\u001b[0m\u001b[0;34m(\u001b[0m\u001b[0mflow\u001b[0m\u001b[0;34m(\u001b[0m\u001b[0mD\u001b[0m\u001b[0;34m)\u001b[0m\u001b[0;34m)\u001b[0m \u001b[0;34m-\u001b[0m \u001b[0mD\u001b[0m\u001b[0;34m)\u001b[0m\u001b[0;34m.\u001b[0m\u001b[0msum\u001b[0m\u001b[0;34m(\u001b[0m\u001b[0;34m)\u001b[0m\u001b[0;34m)\u001b[0m\u001b[0;34m\u001b[0m\u001b[0;34m\u001b[0m\u001b[0m\n\u001b[0;32m----> 2\u001b[0;31m \u001b[0;32massert\u001b[0m \u001b[0;34m(\u001b[0m\u001b[0mflow\u001b[0m\u001b[0;34m.\u001b[0m\u001b[0minverse\u001b[0m\u001b[0;34m(\u001b[0m\u001b[0mflow\u001b[0m\u001b[0;34m(\u001b[0m\u001b[0mD\u001b[0m\u001b[0;34m)\u001b[0m\u001b[0;34m)\u001b[0m \u001b[0;34m-\u001b[0m \u001b[0mD\u001b[0m\u001b[0;34m)\u001b[0m\u001b[0;34m.\u001b[0m\u001b[0msum\u001b[0m\u001b[0;34m(\u001b[0m\u001b[0;34m)\u001b[0m \u001b[0;34m<\u001b[0m \u001b[0;36m1e-4\u001b[0m\u001b[0;34m\u001b[0m\u001b[0;34m\u001b[0m\u001b[0m\n\u001b[0m",
            "\u001b[0;31mAssertionError\u001b[0m: "
          ]
        }
      ]
    },
    {
      "cell_type": "code",
      "source": [
        "X_ = flow.sample(2000, 1).detach()\n",
        "plt.scatter(X_[:, 0], X_[:, 1], 1)\n",
        "plt.show()"
      ],
      "metadata": {
        "id": "jDy--jYaJO2Q"
      },
      "execution_count": null,
      "outputs": []
    },
    {
      "cell_type": "code",
      "source": [
        "plt.clf()\n",
        "plt.scatter(D[:, 0], D[:, 1], 1)\n",
        "plt.scatter(X_[:, 0], X_[:, 1], 1)"
      ],
      "metadata": {
        "id": "5TIb8DhgJpB1"
      },
      "execution_count": null,
      "outputs": []
    },
    {
      "cell_type": "markdown",
      "source": [
        "Kao što vidite, kapacitetniji tok uspijeva dobro aproksimirati dani skup podataka."
      ],
      "metadata": {
        "id": "YXCecEFb-ae8"
      }
    },
    {
      "cell_type": "markdown",
      "source": [
        "## Modeliranje slika normalizirajućim tokom"
      ],
      "metadata": {
        "id": "cntMrCuDwlkj"
      }
    },
    {
      "cell_type": "markdown",
      "source": [
        "Naš sljedeći zadatak je modelirati distribuciju slika s normalizirajućim tokom. Slike možemo prestaviti diskretnim tenzorom $\\mathbf{x} \\in [0, 255]^{C \\times H \\times W}$. Prisjetimo se da smo normalizirajući tok definirali za kontinuirane slučajne varijable. Stoga, potrebno je transfrormirati skup podataka u kontinuiranu domenu pomoću zašumljivanja:\n",
        "\n",
        "$$\n",
        "\\mathbf{y} = \\mathbf{x} + \\mathbf{u}, \\quad \\mathbf{u} \\sim \\mathrm{U}[0, 1)\n",
        "$$\n",
        "U prestavlja uniformnu razdiobu. Sada, naš model uči modelirati zašumljenu sliku. Više o dekvantizaciji zašumljivanjem možete pronaći [ovdje](https://arxiv.org/pdf/1511.01844.pdf).\n",
        "\n",
        "MNIST je skup jednostavnih slika pa ćemo se sljedećim pojednostavljenjem. Sliku ćemo ispeglati u vektor i normalizirajućim tokom učiti takvu reprezentaciju slike.\n",
        "\n",
        "U nastavku je dan kod za pripremanje skupa slika."
      ],
      "metadata": {
        "id": "fihSoOBAfgWD"
      }
    },
    {
      "cell_type": "code",
      "source": [
        "from torchvision.datasets import MNIST\n",
        "import torchvision.transforms as tf\n",
        "from torch.utils.data import DataLoader, Subset"
      ],
      "metadata": {
        "id": "mjAxWg880ZoT"
      },
      "execution_count": null,
      "outputs": []
    },
    {
      "cell_type": "code",
      "source": [
        "train_ds = MNIST('.', train=True, download=True, transform=tf.Compose([tf.Resize(14), tf.ToTensor()]))\n",
        "test_ds = MNIST('.', train=False, download=True, transform=tf.Compose([tf.Resize(14), tf.ToTensor()]))\n",
        "\n",
        "selected_number = 0\n",
        "\n",
        "indices = [r[0] for r in list(filter(lambda x: x[1] == selected_number ,[(i, train_ds[i][1]) for i in range(len(train_ds))]))]\n",
        "train_ds = Subset(train_ds, indices)\n",
        "\n",
        "indices = [r[0] for r in list(filter(lambda x: x[1] == selected_number ,[(i, test_ds[i][1]) for i in range(len(test_ds))]))]\n",
        "test_ds = Subset(test_ds, indices)\n",
        "\n",
        "train_loader = DataLoader(train_ds, batch_size=128, shuffle=True)\n",
        "test_loader = DataLoader(test_ds, batch_size=128, shuffle=False)"
      ],
      "metadata": {
        "id": "hlg0BSAw0bGb"
      },
      "execution_count": null,
      "outputs": []
    },
    {
      "cell_type": "code",
      "source": [
        "def plot_mnist(samples, num_row, num_col):\n",
        "    assert len(samples) ==  num_row * num_col\n",
        "    fig, axes = plt.subplots(num_row, num_col, figsize=(1.5*num_col,2*num_row))\n",
        "    for i in range(len(samples)):\n",
        "        ax = axes[i//num_col, i%num_col]\n",
        "        ax.imshow(samples[i], cmap='gray')\n",
        "    plt.tight_layout()\n",
        "    plt.show()"
      ],
      "metadata": {
        "id": "MBQdhaR2o1y4"
      },
      "execution_count": null,
      "outputs": []
    },
    {
      "cell_type": "code",
      "source": [
        "samples = [train_ds[i][0][0] for i in range(10)]\n",
        "plot_mnist(samples, 2, 5)"
      ],
      "metadata": {
        "id": "8plOmcG3o7O6"
      },
      "execution_count": null,
      "outputs": []
    },
    {
      "cell_type": "markdown",
      "source": [
        "**Zadatak 8.:** Predložite arhitekturu toka koji će moći naučiti distribuciju vektoriziranih slika. Predlažemo koristiti rezidualni blok sljedeće arhitekture.\n",
        "\n",
        "`fc(dim, dim) -> BN -> relu -> fc(dim, dim) -> relu`\n",
        "\n",
        "Potrebno je dodati rezidualnu vezu od ulaza u rezidualni blok do latentne reprezentacije prije posljednje zglobnice.\n",
        "Dovršite implementaciju i validirajte utjecaj batchnorma na proces učenja i konačne rezultate."
      ],
      "metadata": {
        "id": "5xkU9mPWkiwy"
      }
    },
    {
      "cell_type": "code",
      "source": [
        "class ResidualBlock(nn.Module):\n",
        "    def __init__(self, dim, use_bn=False):\n",
        "        super(ResidualBlock, self).__init__()\n",
        "        self.layers = nn.Sequential()\n",
        "        # ...\n",
        "\n",
        "    def forward(self, x):\n",
        "        identity = x\n",
        "        out = self.layers(x)\n",
        "        out = out + identity\n",
        "        return self.f_relu(out)"
      ],
      "metadata": {
        "id": "5RJt87gc9HoI"
      },
      "execution_count": null,
      "outputs": []
    },
    {
      "cell_type": "markdown",
      "source": [
        "**Zadatak 9.:** Po uzoru na razred `SimpleTransform` dovršite implementaciju razreda `SimpleResidualTransform` čiji se modul miješanja sastoji od rezidualnih blokova. Predlažemo sljedeću arhitekturu:\n",
        "\n",
        "`fc(dim, internal_dim) -> relu -> res_block(internal_dim, internal_dim) -> fc(internal_dim, 2*dim)`\n",
        "\n",
        "Eksperimentirajte s brojem rezidualnih blokova. Kako broj rezidualnih blokova utječe na rezultate?"
      ],
      "metadata": {
        "id": "zaPosHKakhA8"
      }
    },
    {
      "cell_type": "code",
      "source": [
        "class SimpleResidualTransform(nn.Module):\n",
        "    def __init__(self, dim, inflate_coef=1):\n",
        "        super(SimpleResidualTransform, self).__init__()\n",
        "        # ...\n",
        "\n",
        "    def forward(self, x):\n",
        "        # ..."
      ],
      "metadata": {
        "id": "Cdj5_SS1kS1B"
      },
      "execution_count": null,
      "outputs": []
    },
    {
      "cell_type": "markdown",
      "source": [
        "**Zadatak 10.:** Dovršte implementaciju razreda `RealNVP` po uzoru na `SimpleRealNVP`. `RealNVP` treba koristiti `SimpleResidualTransform` umjesto `SimpleTransform` kao modul miješanja."
      ],
      "metadata": {
        "id": "378krGZ-zZUh"
      }
    },
    {
      "cell_type": "code",
      "source": [
        "class RealNVP(NormalizingFlow):\n",
        "    def __init__(self, input_dim, num_steps=2):\n",
        "        transforms = nn.Sequential()\n",
        "        # ... define transforms\n",
        "        super(RealNVP, self).__init__(transforms, input_dim)"
      ],
      "metadata": {
        "id": "4wi9loJekhwN"
      },
      "execution_count": null,
      "outputs": []
    },
    {
      "cell_type": "markdown",
      "source": [
        "U nastavku je kod za učenje toka.\n",
        "\n",
        "Obratite pozornost na to da izglednost slike prikazujemo u bitovima po dimenziji (BPD). Podsjetite se što ta mjera predstavlja i kako ju računamo."
      ],
      "metadata": {
        "id": "uPJ_jdPGz7F9"
      }
    },
    {
      "cell_type": "code",
      "source": [
        "device = 'cuda'\n",
        "flow = RealNVP(14*14, num_steps=21).to(device)\n",
        "optim = torch.optim.AdamW(flow.parameters(), lr=1e-5)\n",
        "epochs = 1000\n",
        "bits = 8\n",
        "for ep in range(epochs):\n",
        "    total_loss = 0.\n",
        "    iters = 0\n",
        "    for x, _ in train_loader:\n",
        "        x = (x * 255).long()\n",
        "        u = torch.rand_like(x.float())\n",
        "        x = x + u\n",
        "        x = x / (2 ** bits)\n",
        "        x = x.flatten(start_dim=1)\n",
        "\n",
        "        optim.zero_grad()\n",
        "        log_px = flow.log_prob(x.to(device)) - np.log((2 ** bits)) * (14 * 14)\n",
        "        loss = - (log_px).mean()\n",
        "        loss.backward()\n",
        "        optim.step()\n",
        "        iters += 1\n",
        "        total_loss += loss.item()\n",
        "    if ep % 10 == 0:\n",
        "        with torch.no_grad():\n",
        "            val_iters = 0\n",
        "            total_bpd = 0.\n",
        "            for x, _ in test_loader:\n",
        "                x = (x * 255).long()\n",
        "                u = torch.rand_like(x.float())\n",
        "                x = x + u\n",
        "                x = x / (2 ** bits)\n",
        "                x = x.flatten(start_dim=1)\n",
        "                log_px = flow.log_prob(x.to(device)) - np.log((2 ** bits)) * (14 * 14)\n",
        "                bpd = -(log_px).mean().cpu() / (np.log(2) * (14 * 14))\n",
        "                total_bpd += bpd\n",
        "                val_iters += 1\n",
        "        samples = flow.sample(10).detach().cpu()\n",
        "        samples = torch.unflatten(samples, dim=1, sizes=(14, 14)).unsqueeze(1)\n",
        "\n",
        "        plot_mnist(samples[:, 0], 2, 5)\n",
        "\n",
        "        print(f\"Epoch {ep+1}: Train Loss:{total_loss / iters} Val BPD: {total_bpd / val_iters}\")"
      ],
      "metadata": {
        "id": "X9Uiqr_E0XOj"
      },
      "execution_count": null,
      "outputs": []
    },
    {
      "cell_type": "code",
      "source": [
        "samples = flow.sample(10).detach().cpu()\n",
        "samples = torch.unflatten(samples, dim=1, sizes=(14, 14)).unsqueeze(1)\n",
        "plot_mnist(samples[:,0], 2, 5)"
      ],
      "metadata": {
        "id": "DQ6XLhRHjGp3"
      },
      "execution_count": null,
      "outputs": []
    },
    {
      "cell_type": "markdown",
      "source": [
        "## Bonus zadatak\n",
        "\n",
        "Predložite implementaciju konvolucijskog normalizirajućeg toka."
      ],
      "metadata": {
        "id": "VP_LQwbL-qY7"
      }
    },
    {
      "cell_type": "code",
      "source": [],
      "metadata": {
        "id": "-kbuDupRL5rA"
      },
      "execution_count": null,
      "outputs": []
    }
  ]
}